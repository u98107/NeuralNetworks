{
 "cells": [
  {
   "cell_type": "code",
   "execution_count": 1,
   "id": "f1279290",
   "metadata": {
    "_cell_guid": "b1076dfc-b9ad-4769-8c92-a6c4dae69d19",
    "_uuid": "8f2839f25d086af736a60e9eeb907d3b93b6e0e5",
    "execution": {
     "iopub.execute_input": "2022-11-26T05:07:15.431280Z",
     "iopub.status.busy": "2022-11-26T05:07:15.429771Z",
     "iopub.status.idle": "2022-11-26T05:07:15.440403Z",
     "shell.execute_reply": "2022-11-26T05:07:15.439470Z"
    },
    "papermill": {
     "duration": 0.019441,
     "end_time": "2022-11-26T05:07:15.442818",
     "exception": false,
     "start_time": "2022-11-26T05:07:15.423377",
     "status": "completed"
    },
    "tags": []
   },
   "outputs": [],
   "source": [
    "import numpy as np # linear algebra\n",
    "import pandas as pd # data processing, CSV file I/O (e.g. pd.read_csv)\n",
    "from matplotlib import pyplot as plt\n"
   ]
  },
  {
   "cell_type": "code",
   "execution_count": 2,
   "id": "7be23837",
   "metadata": {
    "execution": {
     "iopub.execute_input": "2022-11-26T05:07:15.451579Z",
     "iopub.status.busy": "2022-11-26T05:07:15.450570Z",
     "iopub.status.idle": "2022-11-26T05:07:19.684810Z",
     "shell.execute_reply": "2022-11-26T05:07:19.683651Z"
    },
    "papermill": {
     "duration": 4.241513,
     "end_time": "2022-11-26T05:07:19.687853",
     "exception": false,
     "start_time": "2022-11-26T05:07:15.446340",
     "status": "completed"
    },
    "tags": []
   },
   "outputs": [],
   "source": [
    "data = pd.read_csv('/kaggle/input/mnist-digit-recognizer/train.csv')"
   ]
  },
  {
   "cell_type": "code",
   "execution_count": 3,
   "id": "192ec153",
   "metadata": {
    "execution": {
     "iopub.execute_input": "2022-11-26T05:07:19.696083Z",
     "iopub.status.busy": "2022-11-26T05:07:19.695673Z",
     "iopub.status.idle": "2022-11-26T05:07:19.725602Z",
     "shell.execute_reply": "2022-11-26T05:07:19.724358Z"
    },
    "papermill": {
     "duration": 0.037314,
     "end_time": "2022-11-26T05:07:19.728542",
     "exception": false,
     "start_time": "2022-11-26T05:07:19.691228",
     "status": "completed"
    },
    "tags": []
   },
   "outputs": [
    {
     "data": {
      "text/html": [
       "<div>\n",
       "<style scoped>\n",
       "    .dataframe tbody tr th:only-of-type {\n",
       "        vertical-align: middle;\n",
       "    }\n",
       "\n",
       "    .dataframe tbody tr th {\n",
       "        vertical-align: top;\n",
       "    }\n",
       "\n",
       "    .dataframe thead th {\n",
       "        text-align: right;\n",
       "    }\n",
       "</style>\n",
       "<table border=\"1\" class=\"dataframe\">\n",
       "  <thead>\n",
       "    <tr style=\"text-align: right;\">\n",
       "      <th></th>\n",
       "      <th>label</th>\n",
       "      <th>pixel0</th>\n",
       "      <th>pixel1</th>\n",
       "      <th>pixel2</th>\n",
       "      <th>pixel3</th>\n",
       "      <th>pixel4</th>\n",
       "      <th>pixel5</th>\n",
       "      <th>pixel6</th>\n",
       "      <th>pixel7</th>\n",
       "      <th>pixel8</th>\n",
       "      <th>...</th>\n",
       "      <th>pixel774</th>\n",
       "      <th>pixel775</th>\n",
       "      <th>pixel776</th>\n",
       "      <th>pixel777</th>\n",
       "      <th>pixel778</th>\n",
       "      <th>pixel779</th>\n",
       "      <th>pixel780</th>\n",
       "      <th>pixel781</th>\n",
       "      <th>pixel782</th>\n",
       "      <th>pixel783</th>\n",
       "    </tr>\n",
       "  </thead>\n",
       "  <tbody>\n",
       "    <tr>\n",
       "      <th>0</th>\n",
       "      <td>1</td>\n",
       "      <td>0</td>\n",
       "      <td>0</td>\n",
       "      <td>0</td>\n",
       "      <td>0</td>\n",
       "      <td>0</td>\n",
       "      <td>0</td>\n",
       "      <td>0</td>\n",
       "      <td>0</td>\n",
       "      <td>0</td>\n",
       "      <td>...</td>\n",
       "      <td>0</td>\n",
       "      <td>0</td>\n",
       "      <td>0</td>\n",
       "      <td>0</td>\n",
       "      <td>0</td>\n",
       "      <td>0</td>\n",
       "      <td>0</td>\n",
       "      <td>0</td>\n",
       "      <td>0</td>\n",
       "      <td>0</td>\n",
       "    </tr>\n",
       "    <tr>\n",
       "      <th>1</th>\n",
       "      <td>0</td>\n",
       "      <td>0</td>\n",
       "      <td>0</td>\n",
       "      <td>0</td>\n",
       "      <td>0</td>\n",
       "      <td>0</td>\n",
       "      <td>0</td>\n",
       "      <td>0</td>\n",
       "      <td>0</td>\n",
       "      <td>0</td>\n",
       "      <td>...</td>\n",
       "      <td>0</td>\n",
       "      <td>0</td>\n",
       "      <td>0</td>\n",
       "      <td>0</td>\n",
       "      <td>0</td>\n",
       "      <td>0</td>\n",
       "      <td>0</td>\n",
       "      <td>0</td>\n",
       "      <td>0</td>\n",
       "      <td>0</td>\n",
       "    </tr>\n",
       "    <tr>\n",
       "      <th>2</th>\n",
       "      <td>1</td>\n",
       "      <td>0</td>\n",
       "      <td>0</td>\n",
       "      <td>0</td>\n",
       "      <td>0</td>\n",
       "      <td>0</td>\n",
       "      <td>0</td>\n",
       "      <td>0</td>\n",
       "      <td>0</td>\n",
       "      <td>0</td>\n",
       "      <td>...</td>\n",
       "      <td>0</td>\n",
       "      <td>0</td>\n",
       "      <td>0</td>\n",
       "      <td>0</td>\n",
       "      <td>0</td>\n",
       "      <td>0</td>\n",
       "      <td>0</td>\n",
       "      <td>0</td>\n",
       "      <td>0</td>\n",
       "      <td>0</td>\n",
       "    </tr>\n",
       "    <tr>\n",
       "      <th>3</th>\n",
       "      <td>4</td>\n",
       "      <td>0</td>\n",
       "      <td>0</td>\n",
       "      <td>0</td>\n",
       "      <td>0</td>\n",
       "      <td>0</td>\n",
       "      <td>0</td>\n",
       "      <td>0</td>\n",
       "      <td>0</td>\n",
       "      <td>0</td>\n",
       "      <td>...</td>\n",
       "      <td>0</td>\n",
       "      <td>0</td>\n",
       "      <td>0</td>\n",
       "      <td>0</td>\n",
       "      <td>0</td>\n",
       "      <td>0</td>\n",
       "      <td>0</td>\n",
       "      <td>0</td>\n",
       "      <td>0</td>\n",
       "      <td>0</td>\n",
       "    </tr>\n",
       "    <tr>\n",
       "      <th>4</th>\n",
       "      <td>0</td>\n",
       "      <td>0</td>\n",
       "      <td>0</td>\n",
       "      <td>0</td>\n",
       "      <td>0</td>\n",
       "      <td>0</td>\n",
       "      <td>0</td>\n",
       "      <td>0</td>\n",
       "      <td>0</td>\n",
       "      <td>0</td>\n",
       "      <td>...</td>\n",
       "      <td>0</td>\n",
       "      <td>0</td>\n",
       "      <td>0</td>\n",
       "      <td>0</td>\n",
       "      <td>0</td>\n",
       "      <td>0</td>\n",
       "      <td>0</td>\n",
       "      <td>0</td>\n",
       "      <td>0</td>\n",
       "      <td>0</td>\n",
       "    </tr>\n",
       "  </tbody>\n",
       "</table>\n",
       "<p>5 rows × 785 columns</p>\n",
       "</div>"
      ],
      "text/plain": [
       "   label  pixel0  pixel1  pixel2  pixel3  pixel4  pixel5  pixel6  pixel7  \\\n",
       "0      1       0       0       0       0       0       0       0       0   \n",
       "1      0       0       0       0       0       0       0       0       0   \n",
       "2      1       0       0       0       0       0       0       0       0   \n",
       "3      4       0       0       0       0       0       0       0       0   \n",
       "4      0       0       0       0       0       0       0       0       0   \n",
       "\n",
       "   pixel8  ...  pixel774  pixel775  pixel776  pixel777  pixel778  pixel779  \\\n",
       "0       0  ...         0         0         0         0         0         0   \n",
       "1       0  ...         0         0         0         0         0         0   \n",
       "2       0  ...         0         0         0         0         0         0   \n",
       "3       0  ...         0         0         0         0         0         0   \n",
       "4       0  ...         0         0         0         0         0         0   \n",
       "\n",
       "   pixel780  pixel781  pixel782  pixel783  \n",
       "0         0         0         0         0  \n",
       "1         0         0         0         0  \n",
       "2         0         0         0         0  \n",
       "3         0         0         0         0  \n",
       "4         0         0         0         0  \n",
       "\n",
       "[5 rows x 785 columns]"
      ]
     },
     "execution_count": 3,
     "metadata": {},
     "output_type": "execute_result"
    }
   ],
   "source": [
    "data.head()"
   ]
  },
  {
   "cell_type": "code",
   "execution_count": 4,
   "id": "497568c6",
   "metadata": {
    "execution": {
     "iopub.execute_input": "2022-11-26T05:07:19.737270Z",
     "iopub.status.busy": "2022-11-26T05:07:19.736859Z",
     "iopub.status.idle": "2022-11-26T05:07:20.377261Z",
     "shell.execute_reply": "2022-11-26T05:07:20.376373Z"
    },
    "papermill": {
     "duration": 0.647786,
     "end_time": "2022-11-26T05:07:20.380096",
     "exception": false,
     "start_time": "2022-11-26T05:07:19.732310",
     "status": "completed"
    },
    "tags": []
   },
   "outputs": [],
   "source": [
    "data = np.array(data)\n",
    "m, n = data.shape\n",
    "np.random.shuffle(data)"
   ]
  },
  {
   "cell_type": "code",
   "execution_count": 5,
   "id": "dbbbb2b6",
   "metadata": {
    "execution": {
     "iopub.execute_input": "2022-11-26T05:07:20.389115Z",
     "iopub.status.busy": "2022-11-26T05:07:20.388517Z",
     "iopub.status.idle": "2022-11-26T05:07:20.394069Z",
     "shell.execute_reply": "2022-11-26T05:07:20.393022Z"
    },
    "papermill": {
     "duration": 0.012758,
     "end_time": "2022-11-26T05:07:20.396656",
     "exception": false,
     "start_time": "2022-11-26T05:07:20.383898",
     "status": "completed"
    },
    "tags": []
   },
   "outputs": [],
   "source": [
    "data_dev = data[0:1000].T\n",
    "Y_dev = data_dev[0]\n",
    "X_dev = data_dev[1:n]"
   ]
  },
  {
   "cell_type": "code",
   "execution_count": 6,
   "id": "87c79503",
   "metadata": {
    "execution": {
     "iopub.execute_input": "2022-11-26T05:07:20.404802Z",
     "iopub.status.busy": "2022-11-26T05:07:20.404462Z",
     "iopub.status.idle": "2022-11-26T05:07:20.409699Z",
     "shell.execute_reply": "2022-11-26T05:07:20.408465Z"
    },
    "papermill": {
     "duration": 0.011876,
     "end_time": "2022-11-26T05:07:20.412025",
     "exception": false,
     "start_time": "2022-11-26T05:07:20.400149",
     "status": "completed"
    },
    "tags": []
   },
   "outputs": [],
   "source": [
    "data_train = data[1000:m].T\n",
    "Y_train = data_dev[0]\n",
    "X_train = data_dev[1:n]"
   ]
  },
  {
   "cell_type": "code",
   "execution_count": 7,
   "id": "85e85abb",
   "metadata": {
    "execution": {
     "iopub.execute_input": "2022-11-26T05:07:20.420476Z",
     "iopub.status.busy": "2022-11-26T05:07:20.420106Z",
     "iopub.status.idle": "2022-11-26T05:07:20.426491Z",
     "shell.execute_reply": "2022-11-26T05:07:20.425446Z"
    },
    "papermill": {
     "duration": 0.013566,
     "end_time": "2022-11-26T05:07:20.429070",
     "exception": false,
     "start_time": "2022-11-26T05:07:20.415504",
     "status": "completed"
    },
    "tags": []
   },
   "outputs": [],
   "source": [
    "def init_params():\n",
    "    W1 = np.random.rand(10, 784) - 0.5\n",
    "    b1 = np.random.rand(10, 1) - 0.5\n",
    "    W2 = np.random.rand(10, 10) - 0.5\n",
    "    b2 = np.random.rand(10, 1) - 0.5\n",
    "    return W1, b1, W2, b2\n",
    "    "
   ]
  },
  {
   "cell_type": "code",
   "execution_count": 8,
   "id": "f30a1368",
   "metadata": {
    "execution": {
     "iopub.execute_input": "2022-11-26T05:07:20.438076Z",
     "iopub.status.busy": "2022-11-26T05:07:20.437668Z",
     "iopub.status.idle": "2022-11-26T05:07:20.444708Z",
     "shell.execute_reply": "2022-11-26T05:07:20.443654Z"
    },
    "papermill": {
     "duration": 0.014309,
     "end_time": "2022-11-26T05:07:20.447251",
     "exception": false,
     "start_time": "2022-11-26T05:07:20.432942",
     "status": "completed"
    },
    "tags": []
   },
   "outputs": [],
   "source": [
    "def ReLU(Z):\n",
    "    return np.maximum(0, Z)\n",
    "\n",
    "def softmax(Z):\n",
    "    return np.exp(Z)/sum(np.exp(Z))\n",
    "\n",
    "def forward_prop(W1, b1, W2, b2, X):\n",
    "    Z1 = W1.dot(X) + b1\n",
    "    A1 = ReLU(Z1)\n",
    "    Z2 = W2.dot(A1) + b2\n",
    "    A2 = softmax(Z2)\n",
    "    return Z1, A1, Z2, A2"
   ]
  },
  {
   "cell_type": "code",
   "execution_count": 9,
   "id": "34c9c9d7",
   "metadata": {
    "execution": {
     "iopub.execute_input": "2022-11-26T05:07:20.455613Z",
     "iopub.status.busy": "2022-11-26T05:07:20.455270Z",
     "iopub.status.idle": "2022-11-26T05:07:20.460586Z",
     "shell.execute_reply": "2022-11-26T05:07:20.459569Z"
    },
    "papermill": {
     "duration": 0.012106,
     "end_time": "2022-11-26T05:07:20.462882",
     "exception": false,
     "start_time": "2022-11-26T05:07:20.450776",
     "status": "completed"
    },
    "tags": []
   },
   "outputs": [],
   "source": [
    "def back_prop(Z1, A1, Z2, W2, Y):\n",
    "    pass\n",
    "    "
   ]
  }
 ],
 "metadata": {
  "kernelspec": {
   "display_name": "Python 3",
   "language": "python",
   "name": "python3"
  },
  "language_info": {
   "codemirror_mode": {
    "name": "ipython",
    "version": 3
   },
   "file_extension": ".py",
   "mimetype": "text/x-python",
   "name": "python",
   "nbconvert_exporter": "python",
   "pygments_lexer": "ipython3",
   "version": "3.7.12"
  },
  "papermill": {
   "default_parameters": {},
   "duration": 14.656412,
   "end_time": "2022-11-26T05:07:21.389370",
   "environment_variables": {},
   "exception": null,
   "input_path": "__notebook__.ipynb",
   "output_path": "__notebook__.ipynb",
   "parameters": {},
   "start_time": "2022-11-26T05:07:06.732958",
   "version": "2.3.4"
  }
 },
 "nbformat": 4,
 "nbformat_minor": 5
}
